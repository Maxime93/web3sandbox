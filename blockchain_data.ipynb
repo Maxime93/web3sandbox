{
 "cells": [
  {
   "cell_type": "code",
   "execution_count": 1,
   "id": "8c5d227a-5757-4733-b13b-e9dc2c41925f",
   "metadata": {},
   "outputs": [],
   "source": [
    "from web3 import Web3\n",
    "import json"
   ]
  },
  {
   "cell_type": "code",
   "execution_count": 2,
   "id": "f538e6fe-fe85-44c6-8615-e1b07f49e717",
   "metadata": {},
   "outputs": [
    {
     "data": {
      "text/plain": [
       "True"
      ]
     },
     "execution_count": 2,
     "metadata": {},
     "output_type": "execute_result"
    }
   ],
   "source": [
    "infura_url = 'https://mainnet.infura.io/v3/b9558799c57a4be2a97d00fc63f6e794'\n",
    "web3 = Web3(Web3.HTTPProvider(infura_url))\n",
    "web3.isConnected()"
   ]
  },
  {
   "cell_type": "code",
   "execution_count": 5,
   "id": "6bc4f6f3-15fb-499c-9d25-788d05eec027",
   "metadata": {},
   "outputs": [
    {
     "name": "stdout",
     "output_type": "stream",
     "text": [
      "13122862\n"
     ]
    }
   ],
   "source": [
    "block = web3.eth.blockNumber\n",
    "print(block)"
   ]
  },
  {
   "cell_type": "code",
   "execution_count": 7,
   "id": "73466151-e571-4187-8ecd-66c0cf9c238c",
   "metadata": {},
   "outputs": [],
   "source": [
    "blockData = web3.eth.getBlock(block)"
   ]
  },
  {
   "cell_type": "code",
   "execution_count": 18,
   "id": "c0b752f3-6dfb-4024-bbbe-23462f7758d5",
   "metadata": {},
   "outputs": [
    {
     "name": "stdout",
     "output_type": "stream",
     "text": [
      "4.58%\n",
      "Number of transactions\n"
     ]
    }
   ],
   "source": [
    "percent_gas_used = round(100 * blockData['gasUsed'] / blockData['gasLimit'], 2)\n",
    "print(\"{}%\".format(percent_gas_used))\n",
    "\n",
    "number_of_transactions = len(blockData['transactions'])\n",
    "print(\"Number of transactions\")"
   ]
  },
  {
   "cell_type": "code",
   "execution_count": 24,
   "id": "c477710b-6de3-4672-9d24-7bf8070f490e",
   "metadata": {},
   "outputs": [],
   "source": [
    "# Get latest 10 blocks\n",
    "latest_blocks = []\n",
    "for i in range(10):\n",
    "    latest_blocks.append(web3.eth.getBlock(block - i + 1))"
   ]
  },
  {
   "cell_type": "code",
   "execution_count": 27,
   "id": "20514d91-6900-40ff-8719-c2bbfc2f397f",
   "metadata": {},
   "outputs": [
    {
     "name": "stdout",
     "output_type": "stream",
     "text": [
      "From 0x34E73d74bE10baa7ad1edDcc3816e2768D92C0FF to 0x7a250d5630B4cF539739dF2C5dAcb4c659F2488D.\n",
      "Gas: 259292\n",
      "Transaction hash b'\\x1f\\xf1\\xe3\\x1d \\xc3\\xed\\xfbH\\xe5\\x8f\\xca\\x12\\x18w\\x07\\x8c\\xc4\\xd8\\xbf;i\\xf8\\x00PA\\x02\\xdd2\\xc1\\x87\\x9b'\n"
     ]
    }
   ],
   "source": [
    "block_hash = \"0x33e288dbff7b3e57de8214a78d465c12a1fa1f28eeffd77873881b80f3b9611d\"\n",
    "transaction = web3.eth.getTransactionByBlock(block_hash, 2) # Looking at 2nd transaction\n",
    "\n",
    "print(\"From {} to {}.\".format(\n",
    "    transaction['from'], transaction['to']\n",
    "))\n",
    "print(\"Gas: {}\".format(transaction['gas']))\n",
    "print(\"Transaction hash {}\".format(transaction['hash']))"
   ]
  },
  {
   "cell_type": "code",
   "execution_count": null,
   "id": "078f0a32-14d6-4a9e-812d-f83298d517a7",
   "metadata": {},
   "outputs": [],
   "source": []
  }
 ],
 "metadata": {
  "kernelspec": {
   "display_name": "ethweb3",
   "language": "python",
   "name": "ethweb3"
  },
  "language_info": {
   "codemirror_mode": {
    "name": "ipython",
    "version": 3
   },
   "file_extension": ".py",
   "mimetype": "text/x-python",
   "name": "python",
   "nbconvert_exporter": "python",
   "pygments_lexer": "ipython3",
   "version": "3.9.6"
  }
 },
 "nbformat": 4,
 "nbformat_minor": 5
}
