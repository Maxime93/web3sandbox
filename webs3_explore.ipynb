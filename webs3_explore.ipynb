{
 "cells": [
  {
   "cell_type": "code",
   "execution_count": 1,
   "id": "efe3f404-1202-4adc-bca0-4ddf7525d1cf",
   "metadata": {},
   "outputs": [],
   "source": [
    "from web3 import Web3\n",
    "import json"
   ]
  },
  {
   "cell_type": "code",
   "execution_count": 2,
   "id": "0dfbfeaa-491f-44b6-a8b9-e704bcc3b8b0",
   "metadata": {},
   "outputs": [],
   "source": [
    "infura_url = 'https://mainnet.infura.io/v3/b9558799c57a4be2a97d00fc63f6e794'"
   ]
  },
  {
   "cell_type": "code",
   "execution_count": 3,
   "id": "8f475e2d-fbd0-4584-a60b-868b046d8394",
   "metadata": {},
   "outputs": [],
   "source": [
    "web3 = Web3(Web3.HTTPProvider(infura_url))"
   ]
  },
  {
   "cell_type": "code",
   "execution_count": 4,
   "id": "f29af870-5147-462f-b8a3-8622ca29caa5",
   "metadata": {},
   "outputs": [
    {
     "data": {
      "text/plain": [
       "True"
      ]
     },
     "execution_count": 4,
     "metadata": {},
     "output_type": "execute_result"
    }
   ],
   "source": [
    "web3.isConnected()"
   ]
  },
  {
   "cell_type": "code",
   "execution_count": 5,
   "id": "54fb5ce9-b992-472b-89aa-ffc01ed067a5",
   "metadata": {},
   "outputs": [
    {
     "data": {
      "text/plain": [
       "13109625"
      ]
     },
     "execution_count": 5,
     "metadata": {},
     "output_type": "execute_result"
    }
   ],
   "source": [
    "# Get latest block\n",
    "web3.eth.blockNumber"
   ]
  },
  {
   "cell_type": "code",
   "execution_count": null,
   "id": "fb9c2835-1aa2-4bd8-bbd0-232ec77cb5ef",
   "metadata": {},
   "outputs": [],
   "source": [
    "# Get balance\n",
    "wei = web3.eth.getBalance(\"<address>\")\n",
    "ether = web3.fromWei(wei, 'ether')"
   ]
  },
  {
   "cell_type": "code",
   "execution_count": null,
   "id": "2011c582-28f1-46e4-9c8a-3e08f6bef39d",
   "metadata": {},
   "outputs": [],
   "source": []
  },
  {
   "cell_type": "markdown",
   "id": "e0974d1c-2aba-472b-9915-fdad390b1c16",
   "metadata": {},
   "source": [
    "### OmiseGO Example"
   ]
  },
  {
   "cell_type": "code",
   "execution_count": 12,
   "id": "177ad9af-e893-401f-ad4d-42568f29574f",
   "metadata": {},
   "outputs": [],
   "source": [
    "# HarmonyOne address: https://etherscan.io/address/0x799a4202c12ca952cb311598a024c80ed371a41e\n",
    "# SwissBorg: https://etherscan.io/token/0xba9d4199fab4f26efe3551d490e3821486f135ba\n",
    "\n",
    "abi = [{\"constant\":True,\"inputs\":[],\"name\":\"mintingFinished\",\"outputs\":[{\"name\":\"\",\"type\":\"bool\"}],\"payable\":False,\"type\":\"function\"},{\"constant\":True,\"inputs\":[],\"name\":\"name\",\"outputs\":[{\"name\":\"\",\"type\":\"string\"}],\"payable\":False,\"type\":\"function\"},{\"constant\":False,\"inputs\":[{\"name\":\"_spender\",\"type\":\"address\"},{\"name\":\"_value\",\"type\":\"uint256\"}],\"name\":\"approve\",\"outputs\":[],\"payable\":False,\"type\":\"function\"},{\"constant\":True,\"inputs\":[],\"name\":\"totalSupply\",\"outputs\":[{\"name\":\"\",\"type\":\"uint256\"}],\"payable\":False,\"type\":\"function\"},{\"constant\":False,\"inputs\":[{\"name\":\"_from\",\"type\":\"address\"},{\"name\":\"_to\",\"type\":\"address\"},{\"name\":\"_value\",\"type\":\"uint256\"}],\"name\":\"transferFrom\",\"outputs\":[],\"payable\":False,\"type\":\"function\"},{\"constant\":True,\"inputs\":[],\"name\":\"decimals\",\"outputs\":[{\"name\":\"\",\"type\":\"uint256\"}],\"payable\":False,\"type\":\"function\"},{\"constant\":False,\"inputs\":[],\"name\":\"unpause\",\"outputs\":[{\"name\":\"\",\"type\":\"bool\"}],\"payable\":False,\"type\":\"function\"},{\"constant\":False,\"inputs\":[{\"name\":\"_to\",\"type\":\"address\"},{\"name\":\"_amount\",\"type\":\"uint256\"}],\"name\":\"mint\",\"outputs\":[{\"name\":\"\",\"type\":\"bool\"}],\"payable\":False,\"type\":\"function\"},{\"constant\":True,\"inputs\":[],\"name\":\"paused\",\"outputs\":[{\"name\":\"\",\"type\":\"bool\"}],\"payable\":False,\"type\":\"function\"},{\"constant\":True,\"inputs\":[{\"name\":\"_owner\",\"type\":\"address\"}],\"name\":\"balanceOf\",\"outputs\":[{\"name\":\"balance\",\"type\":\"uint256\"}],\"payable\":False,\"type\":\"function\"},{\"constant\":False,\"inputs\":[],\"name\":\"finishMinting\",\"outputs\":[{\"name\":\"\",\"type\":\"bool\"}],\"payable\":False,\"type\":\"function\"},{\"constant\":False,\"inputs\":[],\"name\":\"pause\",\"outputs\":[{\"name\":\"\",\"type\":\"bool\"}],\"payable\":False,\"type\":\"function\"},{\"constant\":True,\"inputs\":[],\"name\":\"owner\",\"outputs\":[{\"name\":\"\",\"type\":\"address\"}],\"payable\":False,\"type\":\"function\"},{\"constant\":True,\"inputs\":[],\"name\":\"symbol\",\"outputs\":[{\"name\":\"\",\"type\":\"string\"}],\"payable\":False,\"type\":\"function\"},{\"constant\":False,\"inputs\":[{\"name\":\"_to\",\"type\":\"address\"},{\"name\":\"_value\",\"type\":\"uint256\"}],\"name\":\"transfer\",\"outputs\":[],\"payable\":False,\"type\":\"function\"},{\"constant\":False,\"inputs\":[{\"name\":\"_to\",\"type\":\"address\"},{\"name\":\"_amount\",\"type\":\"uint256\"},{\"name\":\"_releaseTime\",\"type\":\"uint256\"}],\"name\":\"mintTimelocked\",\"outputs\":[{\"name\":\"\",\"type\":\"address\"}],\"payable\":False,\"type\":\"function\"},{\"constant\":True,\"inputs\":[{\"name\":\"_owner\",\"type\":\"address\"},{\"name\":\"_spender\",\"type\":\"address\"}],\"name\":\"allowance\",\"outputs\":[{\"name\":\"remaining\",\"type\":\"uint256\"}],\"payable\":False,\"type\":\"function\"},{\"constant\":False,\"inputs\":[{\"name\":\"newOwner\",\"type\":\"address\"}],\"name\":\"transferOwnership\",\"outputs\":[],\"payable\":False,\"type\":\"function\"},{\"anonymous\":False,\"inputs\":[{\"indexed\":True,\"name\":\"to\",\"type\":\"address\"},{\"indexed\":False,\"name\":\"value\",\"type\":\"uint256\"}],\"name\":\"Mint\",\"type\":\"event\"},{\"anonymous\":False,\"inputs\":[],\"name\":\"MintFinished\",\"type\":\"event\"},{\"anonymous\":False,\"inputs\":[],\"name\":\"Pause\",\"type\":\"event\"},{\"anonymous\":False,\"inputs\":[],\"name\":\"Unpause\",\"type\":\"event\"},{\"anonymous\":False,\"inputs\":[{\"indexed\":True,\"name\":\"owner\",\"type\":\"address\"},{\"indexed\":True,\"name\":\"spender\",\"type\":\"address\"},{\"indexed\":False,\"name\":\"value\",\"type\":\"uint256\"}],\"name\":\"Approval\",\"type\":\"event\"},{\"anonymous\":False,\"inputs\":[{\"indexed\":True,\"name\":\"from\",\"type\":\"address\"},{\"indexed\":True,\"name\":\"to\",\"type\":\"address\"},{\"indexed\":False,\"name\":\"value\",\"type\":\"uint256\"}],\"name\":\"Transfer\",\"type\":\"event\"}]\n",
    "address = \"0xd26114cd6EE289AccF82350c8d8487fedB8A0C07\""
   ]
  },
  {
   "cell_type": "code",
   "execution_count": 13,
   "id": "78f02dd8-1336-4721-a2ee-2c34efc48a77",
   "metadata": {},
   "outputs": [],
   "source": [
    "contract = web3.eth.contract(address=address, abi=abi)"
   ]
  },
  {
   "cell_type": "code",
   "execution_count": 17,
   "id": "791f5143-20b7-4885-bbed-157a54035eb3",
   "metadata": {},
   "outputs": [],
   "source": [
    "supply_wei = contract.functions.totalSupply().call()\n",
    "supply = web3.fromWei(supply_wei, 'ether')"
   ]
  },
  {
   "cell_type": "code",
   "execution_count": 18,
   "id": "1dcdb424-235d-454f-9c9c-054cc064abc3",
   "metadata": {},
   "outputs": [
    {
     "data": {
      "text/plain": [
       "Decimal('140245398.245132780789239631')"
      ]
     },
     "execution_count": 18,
     "metadata": {},
     "output_type": "execute_result"
    }
   ],
   "source": [
    "supply"
   ]
  },
  {
   "cell_type": "code",
   "execution_count": 20,
   "id": "b4e946ab-112e-4412-ae33-8b2372c7e66f",
   "metadata": {},
   "outputs": [],
   "source": [
    "token_name = contract.functions.name().call()\n",
    "token_symbol = contract.functions.symbol().call()"
   ]
  },
  {
   "cell_type": "code",
   "execution_count": 21,
   "id": "02974558-3094-4375-b659-41ee2b80a4ff",
   "metadata": {},
   "outputs": [
    {
     "name": "stdout",
     "output_type": "stream",
     "text": [
      "OMGToken OMG\n"
     ]
    }
   ],
   "source": [
    "print(token_name, token_symbol)"
   ]
  },
  {
   "cell_type": "code",
   "execution_count": 29,
   "id": "0932af38-64db-4512-b1bd-b4d8d49a3f9e",
   "metadata": {},
   "outputs": [
    {
     "data": {
      "text/plain": [
       "Decimal('16618132.853463356690475835')"
      ]
     },
     "execution_count": 29,
     "metadata": {},
     "output_type": "execute_result"
    }
   ],
   "source": [
    "# Big token holder\n",
    "holder = '0x23735750A6ed0119E778D9BB969137Df8cC8c3d1'\n",
    "holder_balance_wei = contract.functions.balanceOf(holder).call()\n",
    "holder_balance = supply = web3.fromWei(holder_balance_wei, 'ether')\n",
    "holder_balance"
   ]
  },
  {
   "cell_type": "code",
   "execution_count": null,
   "id": "cc7028af-d42f-46af-9c2b-0c714d2794b6",
   "metadata": {},
   "outputs": [],
   "source": []
  },
  {
   "cell_type": "markdown",
   "id": "92e68086-1a14-4ae3-8fc0-2ff6aa22edd8",
   "metadata": {},
   "source": [
    "## Localhost\n",
    "\n",
    "### We are creating a transaction!"
   ]
  },
  {
   "cell_type": "code",
   "execution_count": 2,
   "id": "0d1c4a3c-b17d-4254-a1c9-323c7de455e7",
   "metadata": {},
   "outputs": [
    {
     "name": "stdout",
     "output_type": "stream",
     "text": [
      "True\n",
      "7\n"
     ]
    }
   ],
   "source": [
    "address = \"http://127.0.0.1\"\n",
    "port = \"7545\"\n",
    "url = \"{}:{}\".format(address, port)\n",
    "\n",
    "web3 = Web3(Web3.HTTPProvider(url))\n",
    "print(web3.isConnected())\n",
    "print(web3.eth.blockNumber)"
   ]
  },
  {
   "cell_type": "code",
   "execution_count": null,
   "id": "3452e8c5-3c2c-475d-82a2-87f50b6cce76",
   "metadata": {},
   "outputs": [],
   "source": [
    "### Transaction"
   ]
  },
  {
   "cell_type": "code",
   "execution_count": 35,
   "id": "e1786a45-05f4-4fc7-9b37-c920e8e85682",
   "metadata": {},
   "outputs": [],
   "source": [
    "account1 = \"0xE9eAFd715d43622D05E2932c1026ffa6DDA0f470\"\n",
    "account2 = \"0xe6040058C1f0fc54B21b02699BA6Cd0CA0D9d1F6\"\n",
    "\n",
    "account1_private_key = \"9b494af523772e8790a85f96b00e403938151d764edf28638ebf56baf18daa6b\"\n",
    "\n",
    "nonce = web3.eth.getTransactionCount(account1)\n",
    "amount = web3.toWei(1, 'ether') \n",
    "\n",
    "tx = {\n",
    "    'nonce': nonce,\n",
    "    'to': account2,\n",
    "    'value': amount,\n",
    "    'gas': 2000000,\n",
    "    'gasPrice': web3.toWei('50', 'gwei')\n",
    "}"
   ]
  },
  {
   "cell_type": "code",
   "execution_count": 36,
   "id": "63a776a4-9419-4c07-b5ec-d7e2f5b94acb",
   "metadata": {},
   "outputs": [],
   "source": [
    "signed_tx = web3.eth.account.signTransaction(tx, account1_private_key)"
   ]
  },
  {
   "cell_type": "code",
   "execution_count": 37,
   "id": "b451e750-267f-4d1f-911d-cf37f1ab1d5a",
   "metadata": {},
   "outputs": [],
   "source": [
    "tx_hash = web3.eth.sendRawTransaction(signed_tx.rawTransaction)"
   ]
  },
  {
   "cell_type": "code",
   "execution_count": 39,
   "id": "b4d76dad-d754-4ab2-a1e2-a81f580781f5",
   "metadata": {},
   "outputs": [
    {
     "data": {
      "text/plain": [
       "'0x52f2be80ca971bc50c4de67c92ab058b8c588358c5a6b5cf3d97dbc4f2d5cafc'"
      ]
     },
     "execution_count": 39,
     "metadata": {},
     "output_type": "execute_result"
    }
   ],
   "source": [
    "web3.toHex(tx_hash)"
   ]
  },
  {
   "cell_type": "markdown",
   "id": "ac286622-ac0b-4503-8016-564a54a98101",
   "metadata": {},
   "source": [
    "### Interacting with a smart contract!"
   ]
  },
  {
   "cell_type": "markdown",
   "id": "2341f6a2-0a28-4f14-af1f-34a2964061f4",
   "metadata": {},
   "source": [
    "Simple smart contract:\n",
    "```\n",
    "pragma solidity ^0.4.2;\n",
    "\n",
    "// Example taken from https://www.ethereum.org/greeter, also used in\n",
    "// https://github.com/ethereum/go-ethereum/wiki/Contract-Tutorial#your-first-citizen-the-greeter\n",
    "\n",
    "contract Mortal {\n",
    "    /* Define variable owner of the type address*/\n",
    "    address owner;\n",
    "\n",
    "    /* this function is executed at initialization and sets the owner of the contract */\n",
    "    constructor() public { owner = msg.sender; }\n",
    "\n",
    "    /* Function to recover the funds on the contract */\n",
    "    function kill() public { if (msg.sender == owner) selfdestruct(owner); }\n",
    "}\n",
    "\n",
    "contract Greeter is Mortal {\n",
    "    /* define variable greeting of the type string */\n",
    "    string greeting;\n",
    "\n",
    "    /* this runs when the contract is executed */\n",
    "    constructor(string _greeting) public {\n",
    "        greeting = _greeting;\n",
    "    }\n",
    "\n",
    "    function newGreeting(string _greeting) public {\n",
    "        greeting = _greeting;\n",
    "    }\n",
    "\n",
    "    /* main function */\n",
    "    function greet() public view returns (string) {\n",
    "        return greeting;\n",
    "    }\n",
    "}\n",
    "```"
   ]
  },
  {
   "cell_type": "code",
   "execution_count": 4,
   "id": "260a9993-9174-4788-abd5-11d6c13be2c1",
   "metadata": {},
   "outputs": [],
   "source": [
    "# contract_address = web3.toChecksumAddress(\"0xffE96fB93C3EAb9eE797b8910b2e1fF3250BfBCb\")\n",
    "contract_address = \"0xffE96fB93C3EAb9eE797b8910b2e1fF3250BfBCb\"\n",
    "with open(\"abi.json\") as f:\n",
    "    abi = json.load(f)"
   ]
  },
  {
   "cell_type": "code",
   "execution_count": 6,
   "id": "13c1ef9c-aa66-407d-8748-5f4df98a03b4",
   "metadata": {},
   "outputs": [],
   "source": [
    "# abi"
   ]
  },
  {
   "cell_type": "code",
   "execution_count": 7,
   "id": "ebe8fc07-416b-4019-9bf2-822274ab6826",
   "metadata": {},
   "outputs": [],
   "source": [
    "contract = web3.eth.contract(address=contract_address, abi=abi)"
   ]
  },
  {
   "cell_type": "code",
   "execution_count": 8,
   "id": "329afed0-687a-4864-9b92-0613e27ab3ff",
   "metadata": {},
   "outputs": [
    {
     "name": "stdout",
     "output_type": "stream",
     "text": [
      "Hello Mr. Max\n"
     ]
    }
   ],
   "source": [
    "# Read data from smart contract\n",
    "print(contract.functions.greet().call())"
   ]
  },
  {
   "cell_type": "code",
   "execution_count": 9,
   "id": "abd79130-156a-4019-be0b-de6a25e57540",
   "metadata": {},
   "outputs": [
    {
     "name": "stdout",
     "output_type": "stream",
     "text": [
      "0xE9eAFd715d43622D05E2932c1026ffa6DDA0f470\n",
      "Waiting for transaction\n",
      "Transaction done!\n"
     ]
    }
   ],
   "source": [
    "# Write data to a smart contract\n",
    "\n",
    "# We need to send this from an account\n",
    "web3.eth.defaultAccount = web3.eth.accounts[0]\n",
    "print(web3.eth.defaultAccount)\n",
    "\n",
    "tx_hash = contract.functions.newGreeting(\"HELLLLOOOOOOOO\").transact()\n",
    "\n",
    "print(\"Waiting for transaction\")\n",
    "web3.eth.waitForTransactionReceipt(tx_hash)\n",
    "print(\"Transaction done!\")"
   ]
  },
  {
   "cell_type": "code",
   "execution_count": 10,
   "id": "2a132779-a4e1-4478-b531-8575db4c4d20",
   "metadata": {},
   "outputs": [
    {
     "name": "stdout",
     "output_type": "stream",
     "text": [
      "HELLLLOOOOOOOO\n"
     ]
    }
   ],
   "source": [
    "# Read data from smart contract\n",
    "print(contract.functions.greet().call())"
   ]
  },
  {
   "cell_type": "code",
   "execution_count": null,
   "id": "01cd9f05-e370-4a1d-a0f2-28bfe6ca75ac",
   "metadata": {},
   "outputs": [],
   "source": []
  }
 ],
 "metadata": {
  "kernelspec": {
   "display_name": "ethweb3",
   "language": "python",
   "name": "ethweb3"
  },
  "language_info": {
   "codemirror_mode": {
    "name": "ipython",
    "version": 3
   },
   "file_extension": ".py",
   "mimetype": "text/x-python",
   "name": "python",
   "nbconvert_exporter": "python",
   "pygments_lexer": "ipython3",
   "version": "3.9.6"
  }
 },
 "nbformat": 4,
 "nbformat_minor": 5
}
